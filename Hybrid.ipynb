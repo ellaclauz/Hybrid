{
  "nbformat": 4,
  "nbformat_minor": 0,
  "metadata": {
    "colab": {
      "provenance": [],
      "authorship_tag": "ABX9TyMiYZbNJGWzA2k+hLVK6z3D",
      "include_colab_link": true
    },
    "kernelspec": {
      "name": "python3",
      "display_name": "Python 3"
    },
    "language_info": {
      "name": "python"
    }
  },
  "cells": [
    {
      "cell_type": "markdown",
      "metadata": {
        "id": "view-in-github",
        "colab_type": "text"
      },
      "source": [
        "<a href=\"https://colab.research.google.com/github/ellaclauz/Hybrid/blob/main/Hybrid.ipynb\" target=\"_parent\"><img src=\"https://colab.research.google.com/assets/colab-badge.svg\" alt=\"Open In Colab\"/></a>"
      ]
    },
    {
      "cell_type": "code",
      "execution_count": null,
      "metadata": {
        "colab": {
          "base_uri": "https://localhost:8080/"
        },
        "id": "bziQqvUza-Nn",
        "outputId": "eb59fba9-c794-4975-bc6a-3da5ab8a8cfc"
      },
      "outputs": [
        {
          "output_type": "stream",
          "name": "stdout",
          "text": [
            "Drive already mounted at /content/gdrive; to attempt to forcibly remount, call drive.mount(\"/content/gdrive\", force_remount=True).\n"
          ]
        }
      ],
      "source": [
        "from google.colab import drive\n",
        "drive.mount('/content/gdrive')"
      ]
    },
    {
      "cell_type": "code",
      "source": [
        "import pandas as pd\n",
        "import numpy as np\n",
        "import seaborn as sn\n",
        "import matplotlib.pyplot as plt\n",
        "from scipy import stats"
      ],
      "metadata": {
        "id": "Lv679aFymtci"
      },
      "execution_count": 14,
      "outputs": []
    },
    {
      "cell_type": "code",
      "source": [
        "!ls"
      ],
      "metadata": {
        "colab": {
          "base_uri": "https://localhost:8080/"
        },
        "id": "nZdOd9Gxb95D",
        "outputId": "0809fc55-c0a3-4eb9-88a0-af734472269d"
      },
      "execution_count": null,
      "outputs": [
        {
          "output_type": "stream",
          "name": "stdout",
          "text": [
            "gdrive\tsample_data\n"
          ]
        }
      ]
    },
    {
      "cell_type": "code",
      "source": [
        "hybrid_path = \"/content/gdrive/MyDrive/Data/hybrid.csv\""
      ],
      "metadata": {
        "id": "0u2TFFTmcUwK"
      },
      "execution_count": 24,
      "outputs": []
    },
    {
      "cell_type": "code",
      "source": [
        "hybrid_path\n"
      ],
      "metadata": {
        "colab": {
          "base_uri": "https://localhost:8080/",
          "height": 36
        },
        "id": "9NkGd849n-8E",
        "outputId": "2849f1c0-4284-42a0-c49d-316444d2fe24"
      },
      "execution_count": 25,
      "outputs": [
        {
          "output_type": "execute_result",
          "data": {
            "text/plain": [
              "'/content/gdrive/MyDrive/Data/hybrid.csv'"
            ],
            "application/vnd.google.colaboratory.intrinsic+json": {
              "type": "string"
            }
          },
          "metadata": {},
          "execution_count": 25
        }
      ]
    },
    {
      "cell_type": "code",
      "source": [
        "hybrid = pd.read_csv(hybrid_path)"
      ],
      "metadata": {
        "id": "oQle8JDroVbv"
      },
      "execution_count": 26,
      "outputs": []
    },
    {
      "cell_type": "code",
      "source": [
        "hybrid"
      ],
      "metadata": {
        "colab": {
          "base_uri": "https://localhost:8080/",
          "height": 423
        },
        "id": "MslzCIdop240",
        "outputId": "cae6e59a-55c0-4593-aa02-5c1f08833536"
      },
      "execution_count": 27,
      "outputs": [
        {
          "output_type": "execute_result",
          "data": {
            "text/plain": [
              "                   vehicle  year      msrp  acceleration    mpg       class\n",
              "0          Prius (1st Gen)  1997  24509.74          7.46  41.26     Compact\n",
              "1                     Tino  2000  35354.97          8.20  54.10     Compact\n",
              "2          Prius (2nd Gen)  2000  26832.25          7.97  45.23     Compact\n",
              "3                  Insight  2000  18936.41          9.52  53.00  Two Seater\n",
              "4          Civic (1st Gen)  2001  25833.38          7.04  47.04     Compact\n",
              "..                     ...   ...       ...           ...    ...         ...\n",
              "148                   S400  2013  92350.00         13.89  21.00       Large\n",
              "149          Prius Plug-in  2013  32000.00          9.17  50.00     Midsize\n",
              "150   C-Max Energi Plug-in  2013  32950.00         11.76  43.00     Midsize\n",
              "151  Fusion Energi Plug-in  2013  38700.00         11.76  43.00     Midsize\n",
              "152         Chevrolet Volt  2013  39145.00         11.11  37.00     Compact\n",
              "\n",
              "[153 rows x 6 columns]"
            ],
            "text/html": [
              "\n",
              "  <div id=\"df-c0fbddec-081e-4d7b-a532-8b494b75f25a\">\n",
              "    <div class=\"colab-df-container\">\n",
              "      <div>\n",
              "<style scoped>\n",
              "    .dataframe tbody tr th:only-of-type {\n",
              "        vertical-align: middle;\n",
              "    }\n",
              "\n",
              "    .dataframe tbody tr th {\n",
              "        vertical-align: top;\n",
              "    }\n",
              "\n",
              "    .dataframe thead th {\n",
              "        text-align: right;\n",
              "    }\n",
              "</style>\n",
              "<table border=\"1\" class=\"dataframe\">\n",
              "  <thead>\n",
              "    <tr style=\"text-align: right;\">\n",
              "      <th></th>\n",
              "      <th>vehicle</th>\n",
              "      <th>year</th>\n",
              "      <th>msrp</th>\n",
              "      <th>acceleration</th>\n",
              "      <th>mpg</th>\n",
              "      <th>class</th>\n",
              "    </tr>\n",
              "  </thead>\n",
              "  <tbody>\n",
              "    <tr>\n",
              "      <th>0</th>\n",
              "      <td>Prius (1st Gen)</td>\n",
              "      <td>1997</td>\n",
              "      <td>24509.74</td>\n",
              "      <td>7.46</td>\n",
              "      <td>41.26</td>\n",
              "      <td>Compact</td>\n",
              "    </tr>\n",
              "    <tr>\n",
              "      <th>1</th>\n",
              "      <td>Tino</td>\n",
              "      <td>2000</td>\n",
              "      <td>35354.97</td>\n",
              "      <td>8.20</td>\n",
              "      <td>54.10</td>\n",
              "      <td>Compact</td>\n",
              "    </tr>\n",
              "    <tr>\n",
              "      <th>2</th>\n",
              "      <td>Prius (2nd Gen)</td>\n",
              "      <td>2000</td>\n",
              "      <td>26832.25</td>\n",
              "      <td>7.97</td>\n",
              "      <td>45.23</td>\n",
              "      <td>Compact</td>\n",
              "    </tr>\n",
              "    <tr>\n",
              "      <th>3</th>\n",
              "      <td>Insight</td>\n",
              "      <td>2000</td>\n",
              "      <td>18936.41</td>\n",
              "      <td>9.52</td>\n",
              "      <td>53.00</td>\n",
              "      <td>Two Seater</td>\n",
              "    </tr>\n",
              "    <tr>\n",
              "      <th>4</th>\n",
              "      <td>Civic (1st Gen)</td>\n",
              "      <td>2001</td>\n",
              "      <td>25833.38</td>\n",
              "      <td>7.04</td>\n",
              "      <td>47.04</td>\n",
              "      <td>Compact</td>\n",
              "    </tr>\n",
              "    <tr>\n",
              "      <th>...</th>\n",
              "      <td>...</td>\n",
              "      <td>...</td>\n",
              "      <td>...</td>\n",
              "      <td>...</td>\n",
              "      <td>...</td>\n",
              "      <td>...</td>\n",
              "    </tr>\n",
              "    <tr>\n",
              "      <th>148</th>\n",
              "      <td>S400</td>\n",
              "      <td>2013</td>\n",
              "      <td>92350.00</td>\n",
              "      <td>13.89</td>\n",
              "      <td>21.00</td>\n",
              "      <td>Large</td>\n",
              "    </tr>\n",
              "    <tr>\n",
              "      <th>149</th>\n",
              "      <td>Prius Plug-in</td>\n",
              "      <td>2013</td>\n",
              "      <td>32000.00</td>\n",
              "      <td>9.17</td>\n",
              "      <td>50.00</td>\n",
              "      <td>Midsize</td>\n",
              "    </tr>\n",
              "    <tr>\n",
              "      <th>150</th>\n",
              "      <td>C-Max Energi Plug-in</td>\n",
              "      <td>2013</td>\n",
              "      <td>32950.00</td>\n",
              "      <td>11.76</td>\n",
              "      <td>43.00</td>\n",
              "      <td>Midsize</td>\n",
              "    </tr>\n",
              "    <tr>\n",
              "      <th>151</th>\n",
              "      <td>Fusion Energi Plug-in</td>\n",
              "      <td>2013</td>\n",
              "      <td>38700.00</td>\n",
              "      <td>11.76</td>\n",
              "      <td>43.00</td>\n",
              "      <td>Midsize</td>\n",
              "    </tr>\n",
              "    <tr>\n",
              "      <th>152</th>\n",
              "      <td>Chevrolet Volt</td>\n",
              "      <td>2013</td>\n",
              "      <td>39145.00</td>\n",
              "      <td>11.11</td>\n",
              "      <td>37.00</td>\n",
              "      <td>Compact</td>\n",
              "    </tr>\n",
              "  </tbody>\n",
              "</table>\n",
              "<p>153 rows × 6 columns</p>\n",
              "</div>\n",
              "      <button class=\"colab-df-convert\" onclick=\"convertToInteractive('df-c0fbddec-081e-4d7b-a532-8b494b75f25a')\"\n",
              "              title=\"Convert this dataframe to an interactive table.\"\n",
              "              style=\"display:none;\">\n",
              "        \n",
              "  <svg xmlns=\"http://www.w3.org/2000/svg\" height=\"24px\"viewBox=\"0 0 24 24\"\n",
              "       width=\"24px\">\n",
              "    <path d=\"M0 0h24v24H0V0z\" fill=\"none\"/>\n",
              "    <path d=\"M18.56 5.44l.94 2.06.94-2.06 2.06-.94-2.06-.94-.94-2.06-.94 2.06-2.06.94zm-11 1L8.5 8.5l.94-2.06 2.06-.94-2.06-.94L8.5 2.5l-.94 2.06-2.06.94zm10 10l.94 2.06.94-2.06 2.06-.94-2.06-.94-.94-2.06-.94 2.06-2.06.94z\"/><path d=\"M17.41 7.96l-1.37-1.37c-.4-.4-.92-.59-1.43-.59-.52 0-1.04.2-1.43.59L10.3 9.45l-7.72 7.72c-.78.78-.78 2.05 0 2.83L4 21.41c.39.39.9.59 1.41.59.51 0 1.02-.2 1.41-.59l7.78-7.78 2.81-2.81c.8-.78.8-2.07 0-2.86zM5.41 20L4 18.59l7.72-7.72 1.47 1.35L5.41 20z\"/>\n",
              "  </svg>\n",
              "      </button>\n",
              "      \n",
              "  <style>\n",
              "    .colab-df-container {\n",
              "      display:flex;\n",
              "      flex-wrap:wrap;\n",
              "      gap: 12px;\n",
              "    }\n",
              "\n",
              "    .colab-df-convert {\n",
              "      background-color: #E8F0FE;\n",
              "      border: none;\n",
              "      border-radius: 50%;\n",
              "      cursor: pointer;\n",
              "      display: none;\n",
              "      fill: #1967D2;\n",
              "      height: 32px;\n",
              "      padding: 0 0 0 0;\n",
              "      width: 32px;\n",
              "    }\n",
              "\n",
              "    .colab-df-convert:hover {\n",
              "      background-color: #E2EBFA;\n",
              "      box-shadow: 0px 1px 2px rgba(60, 64, 67, 0.3), 0px 1px 3px 1px rgba(60, 64, 67, 0.15);\n",
              "      fill: #174EA6;\n",
              "    }\n",
              "\n",
              "    [theme=dark] .colab-df-convert {\n",
              "      background-color: #3B4455;\n",
              "      fill: #D2E3FC;\n",
              "    }\n",
              "\n",
              "    [theme=dark] .colab-df-convert:hover {\n",
              "      background-color: #434B5C;\n",
              "      box-shadow: 0px 1px 3px 1px rgba(0, 0, 0, 0.15);\n",
              "      filter: drop-shadow(0px 1px 2px rgba(0, 0, 0, 0.3));\n",
              "      fill: #FFFFFF;\n",
              "    }\n",
              "  </style>\n",
              "\n",
              "      <script>\n",
              "        const buttonEl =\n",
              "          document.querySelector('#df-c0fbddec-081e-4d7b-a532-8b494b75f25a button.colab-df-convert');\n",
              "        buttonEl.style.display =\n",
              "          google.colab.kernel.accessAllowed ? 'block' : 'none';\n",
              "\n",
              "        async function convertToInteractive(key) {\n",
              "          const element = document.querySelector('#df-c0fbddec-081e-4d7b-a532-8b494b75f25a');\n",
              "          const dataTable =\n",
              "            await google.colab.kernel.invokeFunction('convertToInteractive',\n",
              "                                                     [key], {});\n",
              "          if (!dataTable) return;\n",
              "\n",
              "          const docLinkHtml = 'Like what you see? Visit the ' +\n",
              "            '<a target=\"_blank\" href=https://colab.research.google.com/notebooks/data_table.ipynb>data table notebook</a>'\n",
              "            + ' to learn more about interactive tables.';\n",
              "          element.innerHTML = '';\n",
              "          dataTable['output_type'] = 'display_data';\n",
              "          await google.colab.output.renderOutput(dataTable, element);\n",
              "          const docLink = document.createElement('div');\n",
              "          docLink.innerHTML = docLinkHtml;\n",
              "          element.appendChild(docLink);\n",
              "        }\n",
              "      </script>\n",
              "    </div>\n",
              "  </div>\n",
              "  "
            ]
          },
          "metadata": {},
          "execution_count": 27
        }
      ]
    },
    {
      "cell_type": "code",
      "source": [
        "hybrid.info()"
      ],
      "metadata": {
        "colab": {
          "base_uri": "https://localhost:8080/"
        },
        "id": "Hh0r8-4yqAHl",
        "outputId": "d1ce4a2f-0333-497f-aa2d-f2c0a98b28e1"
      },
      "execution_count": 29,
      "outputs": [
        {
          "output_type": "stream",
          "name": "stdout",
          "text": [
            "<class 'pandas.core.frame.DataFrame'>\n",
            "RangeIndex: 153 entries, 0 to 152\n",
            "Data columns (total 6 columns):\n",
            " #   Column        Non-Null Count  Dtype  \n",
            "---  ------        --------------  -----  \n",
            " 0   vehicle       153 non-null    object \n",
            " 1   year          153 non-null    int64  \n",
            " 2   msrp          153 non-null    float64\n",
            " 3   acceleration  153 non-null    float64\n",
            " 4   mpg           153 non-null    float64\n",
            " 5   class         153 non-null    object \n",
            "dtypes: float64(3), int64(1), object(2)\n",
            "memory usage: 7.3+ KB\n"
          ]
        }
      ]
    },
    {
      "cell_type": "markdown",
      "source": [
        "# Lets create a scatter plot of msrp versus acceleration. That means msrp will be plotted on the vertical axis and acceleration on the horizontal axis.\n"
      ],
      "metadata": {
        "id": "meFdY5fpqaMD"
      }
    },
    {
      "cell_type": "code",
      "source": [
        "sn.scatterplot(data=hybrid, x= 'acceleration', y= 'msrp')\n",
        "plt.show()"
      ],
      "metadata": {
        "colab": {
          "base_uri": "https://localhost:8080/",
          "height": 279
        },
        "id": "I7-wIeVqqyV0",
        "outputId": "a0f85a70-39ef-44e5-def4-e6f40cb602aa"
      },
      "execution_count": 30,
      "outputs": [
        {
          "output_type": "display_data",
          "data": {
            "text/plain": [
              "<Figure size 432x288 with 1 Axes>"
            ],
            "image/png": "[encoded data removed]"
          },
          "metadata": {
            "needs_background": "light"
          }
        }
      ]
    },
    {
      "cell_type": "markdown",
      "source": [
        "From this scatter plot we can see that there is a positive association between price and acceleration. The plot is sloping upwards, indicating that cars with greater acceleration tended to cost more on average. Conversely, the cars that cost more tend to have greater acceleration on average."
      ],
      "metadata": {
        "id": "voTBKSGUq6zC"
      }
    },
    {
      "cell_type": "markdown",
      "source": [
        "Next, lets create a scatter plot of the Msrp versus mileage (mpg)"
      ],
      "metadata": {
        "id": "GWwpN5JPq_3p"
      }
    },
    {
      "cell_type": "code",
      "source": [
        "sn.scatterplot(data=hybrid, x= 'mpg', y= 'msrp')\n",
        "plt.show()"
      ],
      "metadata": {
        "colab": {
          "base_uri": "https://localhost:8080/",
          "height": 279
        },
        "id": "JxuVy9T4rE3Q",
        "outputId": "11c38eff-d5bb-4ca9-d244-c95161360120"
      },
      "execution_count": 31,
      "outputs": [
        {
          "output_type": "display_data",
          "data": {
            "text/plain": [
              "<Figure size 432x288 with 1 Axes>"
            ],
            "image/png": "[encoded data removed]"
          },
          "metadata": {
            "needs_background": "light"
          }
        }
      ]
    },
    {
      "cell_type": "markdown",
      "source": [
        "This scatter plot shows a negative association between price and mileage. Hybrid cars with higher mileage tend to cost less on average. This seems surprising till you consider that cars that accelerate fast tend to be less fuel efficient and have lower mileage. As previous scatter plot showed those were also the cars that tended to cost more.\n",
        "Along with the negative association, the scatter diagram of price versus efficiency shows a non-linear relation between the two variables. The points appears to be clustered around a curve, and not around a straight line."
      ],
      "metadata": {
        "id": "cZaEqfx7rNo9"
      }
    },
    {
      "cell_type": "markdown",
      "source": [
        "Lets create a scatter plot of MSRP versus mileage(MPG) for the SUV class"
      ],
      "metadata": {
        "id": "N8wZtWMGrV8b"
      }
    },
    {
      "cell_type": "code",
      "source": [
        "SUV = hybrid[hybrid['class'] == 'SUV']\n",
        "SUV.head()"
      ],
      "metadata": {
        "colab": {
          "base_uri": "https://localhost:8080/",
          "height": 206
        },
        "id": "J4djElzmreBf",
        "outputId": "28042d94-b8aa-4517-dbae-da10120398c0"
      },
      "execution_count": 32,
      "outputs": [
        {
          "output_type": "execute_result",
          "data": {
            "text/plain": [
              "            vehicle  year      msrp  acceleration    mpg class\n",
              "10           Escape  2004  36676.10         10.32  31.99   SUV\n",
              "14     Lexus RX400h  2005  58521.14         12.76  28.23   SUV\n",
              "16       Highlander  2005  29186.21         12.76  29.40   SUV\n",
              "19       Escape 2WD  2005  19322.56          9.52  29.00   SUV\n",
              "22  Mercury Mariner  2006  34772.40          8.98  32.93   SUV"
            ],
            "text/html": [
              "\n",
              "  <div id=\"df-26d45f06-74e6-48c9-84c7-be14a10727fd\">\n",
              "    <div class=\"colab-df-container\">\n",
              "      <div>\n",
              "<style scoped>\n",
              "    .dataframe tbody tr th:only-of-type {\n",
              "        vertical-align: middle;\n",
              "    }\n",
              "\n",
              "    .dataframe tbody tr th {\n",
              "        vertical-align: top;\n",
              "    }\n",
              "\n",
              "    .dataframe thead th {\n",
              "        text-align: right;\n",
              "    }\n",
              "</style>\n",
              "<table border=\"1\" class=\"dataframe\">\n",
              "  <thead>\n",
              "    <tr style=\"text-align: right;\">\n",
              "      <th></th>\n",
              "      <th>vehicle</th>\n",
              "      <th>year</th>\n",
              "      <th>msrp</th>\n",
              "      <th>acceleration</th>\n",
              "      <th>mpg</th>\n",
              "      <th>class</th>\n",
              "    </tr>\n",
              "  </thead>\n",
              "  <tbody>\n",
              "    <tr>\n",
              "      <th>10</th>\n",
              "      <td>Escape</td>\n",
              "      <td>2004</td>\n",
              "      <td>36676.10</td>\n",
              "      <td>10.32</td>\n",
              "      <td>31.99</td>\n",
              "      <td>SUV</td>\n",
              "    </tr>\n",
              "    <tr>\n",
              "      <th>14</th>\n",
              "      <td>Lexus RX400h</td>\n",
              "      <td>2005</td>\n",
              "      <td>58521.14</td>\n",
              "      <td>12.76</td>\n",
              "      <td>28.23</td>\n",
              "      <td>SUV</td>\n",
              "    </tr>\n",
              "    <tr>\n",
              "      <th>16</th>\n",
              "      <td>Highlander</td>\n",
              "      <td>2005</td>\n",
              "      <td>29186.21</td>\n",
              "      <td>12.76</td>\n",
              "      <td>29.40</td>\n",
              "      <td>SUV</td>\n",
              "    </tr>\n",
              "    <tr>\n",
              "      <th>19</th>\n",
              "      <td>Escape 2WD</td>\n",
              "      <td>2005</td>\n",
              "      <td>19322.56</td>\n",
              "      <td>9.52</td>\n",
              "      <td>29.00</td>\n",
              "      <td>SUV</td>\n",
              "    </tr>\n",
              "    <tr>\n",
              "      <th>22</th>\n",
              "      <td>Mercury Mariner</td>\n",
              "      <td>2006</td>\n",
              "      <td>34772.40</td>\n",
              "      <td>8.98</td>\n",
              "      <td>32.93</td>\n",
              "      <td>SUV</td>\n",
              "    </tr>\n",
              "  </tbody>\n",
              "</table>\n",
              "</div>\n",
              "      <button class=\"colab-df-convert\" onclick=\"convertToInteractive('df-26d45f06-74e6-48c9-84c7-be14a10727fd')\"\n",
              "              title=\"Convert this dataframe to an interactive table.\"\n",
              "              style=\"display:none;\">\n",
              "        \n",
              "  <svg xmlns=\"http://www.w3.org/2000/svg\" height=\"24px\"viewBox=\"0 0 24 24\"\n",
              "       width=\"24px\">\n",
              "    <path d=\"M0 0h24v24H0V0z\" fill=\"none\"/>\n",
              "    <path d=\"M18.56 5.44l.94 2.06.94-2.06 2.06-.94-2.06-.94-.94-2.06-.94 2.06-2.06.94zm-11 1L8.5 8.5l.94-2.06 2.06-.94-2.06-.94L8.5 2.5l-.94 2.06-2.06.94zm10 10l.94 2.06.94-2.06 2.06-.94-2.06-.94-.94-2.06-.94 2.06-2.06.94z\"/><path d=\"M17.41 7.96l-1.37-1.37c-.4-.4-.92-.59-1.43-.59-.52 0-1.04.2-1.43.59L10.3 9.45l-7.72 7.72c-.78.78-.78 2.05 0 2.83L4 21.41c.39.39.9.59 1.41.59.51 0 1.02-.2 1.41-.59l7.78-7.78 2.81-2.81c.8-.78.8-2.07 0-2.86zM5.41 20L4 18.59l7.72-7.72 1.47 1.35L5.41 20z\"/>\n",
              "  </svg>\n",
              "      </button>\n",
              "      \n",
              "  <style>\n",
              "    .colab-df-container {\n",
              "      display:flex;\n",
              "      flex-wrap:wrap;\n",
              "      gap: 12px;\n",
              "    }\n",
              "\n",
              "    .colab-df-convert {\n",
              "      background-color: #E8F0FE;\n",
              "      border: none;\n",
              "      border-radius: 50%;\n",
              "      cursor: pointer;\n",
              "      display: none;\n",
              "      fill: #1967D2;\n",
              "      height: 32px;\n",
              "      padding: 0 0 0 0;\n",
              "      width: 32px;\n",
              "    }\n",
              "\n",
              "    .colab-df-convert:hover {\n",
              "      background-color: #E2EBFA;\n",
              "      box-shadow: 0px 1px 2px rgba(60, 64, 67, 0.3), 0px 1px 3px 1px rgba(60, 64, 67, 0.15);\n",
              "      fill: #174EA6;\n",
              "    }\n",
              "\n",
              "    [theme=dark] .colab-df-convert {\n",
              "      background-color: #3B4455;\n",
              "      fill: #D2E3FC;\n",
              "    }\n",
              "\n",
              "    [theme=dark] .colab-df-convert:hover {\n",
              "      background-color: #434B5C;\n",
              "      box-shadow: 0px 1px 3px 1px rgba(0, 0, 0, 0.15);\n",
              "      filter: drop-shadow(0px 1px 2px rgba(0, 0, 0, 0.3));\n",
              "      fill: #FFFFFF;\n",
              "    }\n",
              "  </style>\n",
              "\n",
              "      <script>\n",
              "        const buttonEl =\n",
              "          document.querySelector('#df-26d45f06-74e6-48c9-84c7-be14a10727fd button.colab-df-convert');\n",
              "        buttonEl.style.display =\n",
              "          google.colab.kernel.accessAllowed ? 'block' : 'none';\n",
              "\n",
              "        async function convertToInteractive(key) {\n",
              "          const element = document.querySelector('#df-26d45f06-74e6-48c9-84c7-be14a10727fd');\n",
              "          const dataTable =\n",
              "            await google.colab.kernel.invokeFunction('convertToInteractive',\n",
              "                                                     [key], {});\n",
              "          if (!dataTable) return;\n",
              "\n",
              "          const docLinkHtml = 'Like what you see? Visit the ' +\n",
              "            '<a target=\"_blank\" href=https://colab.research.google.com/notebooks/data_table.ipynb>data table notebook</a>'\n",
              "            + ' to learn more about interactive tables.';\n",
              "          element.innerHTML = '';\n",
              "          dataTable['output_type'] = 'display_data';\n",
              "          await google.colab.output.renderOutput(dataTable, element);\n",
              "          const docLink = document.createElement('div');\n",
              "          docLink.innerHTML = docLinkHtml;\n",
              "          element.appendChild(docLink);\n",
              "        }\n",
              "      </script>\n",
              "    </div>\n",
              "  </div>\n",
              "  "
            ]
          },
          "metadata": {},
          "execution_count": 32
        }
      ]
    },
    {
      "cell_type": "code",
      "source": [
        "sn.scatterplot(data=SUV, x= 'mpg', y= 'msrp')\n",
        "plt.show()"
      ],
      "metadata": {
        "colab": {
          "base_uri": "https://localhost:8080/",
          "height": 280
        },
        "id": "zh8TW7d9rmn2",
        "outputId": "06fbd0cb-3cb3-46de-c655-8d1490ffba39"
      },
      "execution_count": 33,
      "outputs": [
        {
          "output_type": "display_data",
          "data": {
            "text/plain": [
              "<Figure size 432x288 with 1 Axes>"
            ],
            "image/png": "[encoded data removed]"
          },
          "metadata": {
            "needs_background": "light"
          }
        }
      ]
    },
    {
      "cell_type": "code",
      "source": [
        "sn.scatterplot(data=SUV, x= 'acceleration', y= 'msrp')\n",
        "plt.show()"
      ],
      "metadata": {
        "colab": {
          "base_uri": "https://localhost:8080/",
          "height": 280
        },
        "id": "rmB5PQbvrtqf",
        "outputId": "f56752e5-5337-4e10-fa86-0195c5363f2e"
      },
      "execution_count": 34,
      "outputs": [
        {
          "output_type": "display_data",
          "data": {
            "text/plain": [
              "<Figure size 432x288 with 1 Axes>"
            ],
            "image/png": "[encoded data removed]"
          },
          "metadata": {
            "needs_background": "light"
          }
        }
      ]
    },
    {
      "cell_type": "markdown",
      "source": [
        "If we restrict the data to just SUV class, the association between price and mileage is still negative but the relation appears to be more linear. The relation between price and acceleration of SUV's also shows a linear trend but with a positive slope."
      ],
      "metadata": {
        "id": "2Rkm8MXar7HR"
      }
    },
    {
      "cell_type": "markdown",
      "source": [
        "We could plot all the variables in standard deviation and the plots would look the same. This gives us a way to compare the linearity in two scatter diagrams."
      ],
      "metadata": {
        "id": "VfwJ7gxdr8tK"
      }
    },
    {
      "cell_type": "code",
      "source": [
        "#Let's define a function named standard_units to convert an array of numbers to standard units.\n",
        "def standard_units(any_numbers):\n",
        "    \"convert any array of numbers to standard units.\"\n",
        "    return (any_numbers - np.mean(any_numbers)) / np.std(any_numbers)"
      ],
      "metadata": {
        "id": "RvZLq_aCsGYH"
      },
      "execution_count": 35,
      "outputs": []
    },
    {
      "cell_type": "markdown",
      "source": [
        "We can use this function to re-draw the two scatter diagrams for SUVs, with all the variables measured in standard units."
      ],
      "metadata": {
        "id": "jLZmwPcTsMTN"
      }
    },
    {
      "cell_type": "code",
      "source": [
        "SUV_standard_units = pd.DataFrame(data = {'mpg (standard units)': standard_units(SUV['mpg']), \n",
        "                                          'msrp (standard units)': standard_units(SUV['msrp']),\n",
        "                                          'acceleration (standard units)': standard_units(SUV['acceleration'])}) \n",
        "SUV_standard_units                                        "
      ],
      "metadata": {
        "colab": {
          "base_uri": "https://localhost:8080/",
          "height": 1000
        },
        "id": "qEEmLQD8sRDl",
        "outputId": "d8653f14-25f4-40ec-df5b-4bc2293c5590"
      },
      "execution_count": 36,
      "outputs": [
        {
          "output_type": "execute_result",
          "data": {
            "text/plain": [
              "     mpg (standard units)  msrp (standard units)  \\\n",
              "10               1.317836              -0.608840   \n",
              "14               0.489550               0.605991   \n",
              "16               0.747288              -1.025362   \n",
              "19               0.659172              -1.573892   \n",
              "22               1.524908              -0.714707   \n",
              "27              -0.805749              -0.261367   \n",
              "28              -0.030332              -0.077564   \n",
              "30               1.264967              -1.267960   \n",
              "31              -0.931314               0.526671   \n",
              "33              -0.001695              -1.372815   \n",
              "36              -0.805749               1.741110   \n",
              "40               1.317836              -0.077348   \n",
              "41              -0.444475               0.717140   \n",
              "47              -1.583369               2.759079   \n",
              "50               0.438883              -1.179825   \n",
              "51              -1.103139              -0.151288   \n",
              "52              -1.103139              -0.366534   \n",
              "56               0.593086               0.921741   \n",
              "57               1.681313              -0.562418   \n",
              "58               0.747288              -1.700547   \n",
              "64               0.022537               1.421382   \n",
              "68               0.659172              -1.093090   \n",
              "71               1.320039              -0.969265   \n",
              "72               0.879461              -0.267584   \n",
              "73              -0.882850               0.419314   \n",
              "86               1.320039              -0.943328   \n",
              "92               1.320039              -1.190701   \n",
              "93              -1.103139               1.127688   \n",
              "94              -1.103139               0.140427   \n",
              "109             -1.103139               0.278197   \n",
              "126              0.879461              -0.073086   \n",
              "127              0.438883              -0.414539   \n",
              "128             -0.001695               0.182169   \n",
              "129             -1.103139               1.236003   \n",
              "130             -1.103139               0.831431   \n",
              "131             -1.103139               1.490425   \n",
              "132             -1.103139               0.333432   \n",
              "133             -1.103139               0.362628   \n",
              "134             -1.103139               0.797230   \n",
              "\n",
              "     acceleration (standard units)  \n",
              "10                       -1.161574  \n",
              "14                       -0.071804  \n",
              "16                       -0.071804  \n",
              "19                       -1.518876  \n",
              "22                       -1.760054  \n",
              "27                       -0.898064  \n",
              "28                       -0.071804  \n",
              "30                       -0.732812  \n",
              "31                       -0.286185  \n",
              "33                       -0.969524  \n",
              "36                       -1.710925  \n",
              "40                        0.245301  \n",
              "41                       -0.143264  \n",
              "47                        2.250657  \n",
              "50                        0.348026  \n",
              "51                        0.263166  \n",
              "52                       -2.050362  \n",
              "56                        1.098359  \n",
              "57                        0.517744  \n",
              "58                       -0.388909  \n",
              "64                        0.799119  \n",
              "68                       -0.254921  \n",
              "71                       -0.576493  \n",
              "72                        0.432885  \n",
              "73                        0.030920  \n",
              "86                       -0.254921  \n",
              "92                       -0.187927  \n",
              "93                        2.500768  \n",
              "94                        1.433329  \n",
              "109                       0.258700  \n",
              "126                       0.030920  \n",
              "127                       0.432885  \n",
              "128                       0.799119  \n",
              "129                       1.549452  \n",
              "130                       1.433329  \n",
              "131                      -0.576493  \n",
              "132                      -0.455903  \n",
              "133                      -0.464836  \n",
              "134                       0.182774  "
            ],
            "text/html": [
              "\n",
              "  <div id=\"df-e9b425aa-4bb5-4984-8384-8b545b320187\">\n",
              "    <div class=\"colab-df-container\">\n",
              "      <div>\n",
              "<style scoped>\n",
              "    .dataframe tbody tr th:only-of-type {\n",
              "        vertical-align: middle;\n",
              "    }\n",
              "\n",
              "    .dataframe tbody tr th {\n",
              "        vertical-align: top;\n",
              "    }\n",
              "\n",
              "    .dataframe thead th {\n",
              "        text-align: right;\n",
              "    }\n",
              "</style>\n",
              "<table border=\"1\" class=\"dataframe\">\n",
              "  <thead>\n",
              "    <tr style=\"text-align: right;\">\n",
              "      <th></th>\n",
              "      <th>mpg (standard units)</th>\n",
              "      <th>msrp (standard units)</th>\n",
              "      <th>acceleration (standard units)</th>\n",
              "    </tr>\n",
              "  </thead>\n",
              "  <tbody>\n",
              "    <tr>\n",
              "      <th>10</th>\n",
              "      <td>1.317836</td>\n",
              "      <td>-0.608840</td>\n",
              "      <td>-1.161574</td>\n",
              "    </tr>\n",
              "    <tr>\n",
              "      <th>14</th>\n",
              "      <td>0.489550</td>\n",
              "      <td>0.605991</td>\n",
              "      <td>-0.071804</td>\n",
              "    </tr>\n",
              "    <tr>\n",
              "      <th>16</th>\n",
              "      <td>0.747288</td>\n",
              "      <td>-1.025362</td>\n",
              "      <td>-0.071804</td>\n",
              "    </tr>\n",
              "    <tr>\n",
              "      <th>19</th>\n",
              "      <td>0.659172</td>\n",
              "      <td>-1.573892</td>\n",
              "      <td>-1.518876</td>\n",
              "    </tr>\n",
              "    <tr>\n",
              "      <th>22</th>\n",
              "      <td>1.524908</td>\n",
              "      <td>-0.714707</td>\n",
              "      <td>-1.760054</td>\n",
              "    </tr>\n",
              "    <tr>\n",
              "      <th>27</th>\n",
              "      <td>-0.805749</td>\n",
              "      <td>-0.261367</td>\n",
              "      <td>-0.898064</td>\n",
              "    </tr>\n",
              "    <tr>\n",
              "      <th>28</th>\n",
              "      <td>-0.030332</td>\n",
              "      <td>-0.077564</td>\n",
              "      <td>-0.071804</td>\n",
              "    </tr>\n",
              "    <tr>\n",
              "      <th>30</th>\n",
              "      <td>1.264967</td>\n",
              "      <td>-1.267960</td>\n",
              "      <td>-0.732812</td>\n",
              "    </tr>\n",
              "    <tr>\n",
              "      <th>31</th>\n",
              "      <td>-0.931314</td>\n",
              "      <td>0.526671</td>\n",
              "      <td>-0.286185</td>\n",
              "    </tr>\n",
              "    <tr>\n",
              "      <th>33</th>\n",
              "      <td>-0.001695</td>\n",
              "      <td>-1.372815</td>\n",
              "      <td>-0.969524</td>\n",
              "    </tr>\n",
              "    <tr>\n",
              "      <th>36</th>\n",
              "      <td>-0.805749</td>\n",
              "      <td>1.741110</td>\n",
              "      <td>-1.710925</td>\n",
              "    </tr>\n",
              "    <tr>\n",
              "      <th>40</th>\n",
              "      <td>1.317836</td>\n",
              "      <td>-0.077348</td>\n",
              "      <td>0.245301</td>\n",
              "    </tr>\n",
              "    <tr>\n",
              "      <th>41</th>\n",
              "      <td>-0.444475</td>\n",
              "      <td>0.717140</td>\n",
              "      <td>-0.143264</td>\n",
              "    </tr>\n",
              "    <tr>\n",
              "      <th>47</th>\n",
              "      <td>-1.583369</td>\n",
              "      <td>2.759079</td>\n",
              "      <td>2.250657</td>\n",
              "    </tr>\n",
              "    <tr>\n",
              "      <th>50</th>\n",
              "      <td>0.438883</td>\n",
              "      <td>-1.179825</td>\n",
              "      <td>0.348026</td>\n",
              "    </tr>\n",
              "    <tr>\n",
              "      <th>51</th>\n",
              "      <td>-1.103139</td>\n",
              "      <td>-0.151288</td>\n",
              "      <td>0.263166</td>\n",
              "    </tr>\n",
              "    <tr>\n",
              "      <th>52</th>\n",
              "      <td>-1.103139</td>\n",
              "      <td>-0.366534</td>\n",
              "      <td>-2.050362</td>\n",
              "    </tr>\n",
              "    <tr>\n",
              "      <th>56</th>\n",
              "      <td>0.593086</td>\n",
              "      <td>0.921741</td>\n",
              "      <td>1.098359</td>\n",
              "    </tr>\n",
              "    <tr>\n",
              "      <th>57</th>\n",
              "      <td>1.681313</td>\n",
              "      <td>-0.562418</td>\n",
              "      <td>0.517744</td>\n",
              "    </tr>\n",
              "    <tr>\n",
              "      <th>58</th>\n",
              "      <td>0.747288</td>\n",
              "      <td>-1.700547</td>\n",
              "      <td>-0.388909</td>\n",
              "    </tr>\n",
              "    <tr>\n",
              "      <th>64</th>\n",
              "      <td>0.022537</td>\n",
              "      <td>1.421382</td>\n",
              "      <td>0.799119</td>\n",
              "    </tr>\n",
              "    <tr>\n",
              "      <th>68</th>\n",
              "      <td>0.659172</td>\n",
              "      <td>-1.093090</td>\n",
              "      <td>-0.254921</td>\n",
              "    </tr>\n",
              "    <tr>\n",
              "      <th>71</th>\n",
              "      <td>1.320039</td>\n",
              "      <td>-0.969265</td>\n",
              "      <td>-0.576493</td>\n",
              "    </tr>\n",
              "    <tr>\n",
              "      <th>72</th>\n",
              "      <td>0.879461</td>\n",
              "      <td>-0.267584</td>\n",
              "      <td>0.432885</td>\n",
              "    </tr>\n",
              "    <tr>\n",
              "      <th>73</th>\n",
              "      <td>-0.882850</td>\n",
              "      <td>0.419314</td>\n",
              "      <td>0.030920</td>\n",
              "    </tr>\n",
              "    <tr>\n",
              "      <th>86</th>\n",
              "      <td>1.320039</td>\n",
              "      <td>-0.943328</td>\n",
              "      <td>-0.254921</td>\n",
              "    </tr>\n",
              "    <tr>\n",
              "      <th>92</th>\n",
              "      <td>1.320039</td>\n",
              "      <td>-1.190701</td>\n",
              "      <td>-0.187927</td>\n",
              "    </tr>\n",
              "    <tr>\n",
              "      <th>93</th>\n",
              "      <td>-1.103139</td>\n",
              "      <td>1.127688</td>\n",
              "      <td>2.500768</td>\n",
              "    </tr>\n",
              "    <tr>\n",
              "      <th>94</th>\n",
              "      <td>-1.103139</td>\n",
              "      <td>0.140427</td>\n",
              "      <td>1.433329</td>\n",
              "    </tr>\n",
              "    <tr>\n",
              "      <th>109</th>\n",
              "      <td>-1.103139</td>\n",
              "      <td>0.278197</td>\n",
              "      <td>0.258700</td>\n",
              "    </tr>\n",
              "    <tr>\n",
              "      <th>126</th>\n",
              "      <td>0.879461</td>\n",
              "      <td>-0.073086</td>\n",
              "      <td>0.030920</td>\n",
              "    </tr>\n",
              "    <tr>\n",
              "      <th>127</th>\n",
              "      <td>0.438883</td>\n",
              "      <td>-0.414539</td>\n",
              "      <td>0.432885</td>\n",
              "    </tr>\n",
              "    <tr>\n",
              "      <th>128</th>\n",
              "      <td>-0.001695</td>\n",
              "      <td>0.182169</td>\n",
              "      <td>0.799119</td>\n",
              "    </tr>\n",
              "    <tr>\n",
              "      <th>129</th>\n",
              "      <td>-1.103139</td>\n",
              "      <td>1.236003</td>\n",
              "      <td>1.549452</td>\n",
              "    </tr>\n",
              "    <tr>\n",
              "      <th>130</th>\n",
              "      <td>-1.103139</td>\n",
              "      <td>0.831431</td>\n",
              "      <td>1.433329</td>\n",
              "    </tr>\n",
              "    <tr>\n",
              "      <th>131</th>\n",
              "      <td>-1.103139</td>\n",
              "      <td>1.490425</td>\n",
              "      <td>-0.576493</td>\n",
              "    </tr>\n",
              "    <tr>\n",
              "      <th>132</th>\n",
              "      <td>-1.103139</td>\n",
              "      <td>0.333432</td>\n",
              "      <td>-0.455903</td>\n",
              "    </tr>\n",
              "    <tr>\n",
              "      <th>133</th>\n",
              "      <td>-1.103139</td>\n",
              "      <td>0.362628</td>\n",
              "      <td>-0.464836</td>\n",
              "    </tr>\n",
              "    <tr>\n",
              "      <th>134</th>\n",
              "      <td>-1.103139</td>\n",
              "      <td>0.797230</td>\n",
              "      <td>0.182774</td>\n",
              "    </tr>\n",
              "  </tbody>\n",
              "</table>\n",
              "</div>\n",
              "      <button class=\"colab-df-convert\" onclick=\"convertToInteractive('df-e9b425aa-4bb5-4984-8384-8b545b320187')\"\n",
              "              title=\"Convert this dataframe to an interactive table.\"\n",
              "              style=\"display:none;\">\n",
              "        \n",
              "  <svg xmlns=\"http://www.w3.org/2000/svg\" height=\"24px\"viewBox=\"0 0 24 24\"\n",
              "       width=\"24px\">\n",
              "    <path d=\"M0 0h24v24H0V0z\" fill=\"none\"/>\n",
              "    <path d=\"M18.56 5.44l.94 2.06.94-2.06 2.06-.94-2.06-.94-.94-2.06-.94 2.06-2.06.94zm-11 1L8.5 8.5l.94-2.06 2.06-.94-2.06-.94L8.5 2.5l-.94 2.06-2.06.94zm10 10l.94 2.06.94-2.06 2.06-.94-2.06-.94-.94-2.06-.94 2.06-2.06.94z\"/><path d=\"M17.41 7.96l-1.37-1.37c-.4-.4-.92-.59-1.43-.59-.52 0-1.04.2-1.43.59L10.3 9.45l-7.72 7.72c-.78.78-.78 2.05 0 2.83L4 21.41c.39.39.9.59 1.41.59.51 0 1.02-.2 1.41-.59l7.78-7.78 2.81-2.81c.8-.78.8-2.07 0-2.86zM5.41 20L4 18.59l7.72-7.72 1.47 1.35L5.41 20z\"/>\n",
              "  </svg>\n",
              "      </button>\n",
              "      \n",
              "  <style>\n",
              "    .colab-df-container {\n",
              "      display:flex;\n",
              "      flex-wrap:wrap;\n",
              "      gap: 12px;\n",
              "    }\n",
              "\n",
              "    .colab-df-convert {\n",
              "      background-color: #E8F0FE;\n",
              "      border: none;\n",
              "      border-radius: 50%;\n",
              "      cursor: pointer;\n",
              "      display: none;\n",
              "      fill: #1967D2;\n",
              "      height: 32px;\n",
              "      padding: 0 0 0 0;\n",
              "      width: 32px;\n",
              "    }\n",
              "\n",
              "    .colab-df-convert:hover {\n",
              "      background-color: #E2EBFA;\n",
              "      box-shadow: 0px 1px 2px rgba(60, 64, 67, 0.3), 0px 1px 3px 1px rgba(60, 64, 67, 0.15);\n",
              "      fill: #174EA6;\n",
              "    }\n",
              "\n",
              "    [theme=dark] .colab-df-convert {\n",
              "      background-color: #3B4455;\n",
              "      fill: #D2E3FC;\n",
              "    }\n",
              "\n",
              "    [theme=dark] .colab-df-convert:hover {\n",
              "      background-color: #434B5C;\n",
              "      box-shadow: 0px 1px 3px 1px rgba(0, 0, 0, 0.15);\n",
              "      filter: drop-shadow(0px 1px 2px rgba(0, 0, 0, 0.3));\n",
              "      fill: #FFFFFF;\n",
              "    }\n",
              "  </style>\n",
              "\n",
              "      <script>\n",
              "        const buttonEl =\n",
              "          document.querySelector('#df-e9b425aa-4bb5-4984-8384-8b545b320187 button.colab-df-convert');\n",
              "        buttonEl.style.display =\n",
              "          google.colab.kernel.accessAllowed ? 'block' : 'none';\n",
              "\n",
              "        async function convertToInteractive(key) {\n",
              "          const element = document.querySelector('#df-e9b425aa-4bb5-4984-8384-8b545b320187');\n",
              "          const dataTable =\n",
              "            await google.colab.kernel.invokeFunction('convertToInteractive',\n",
              "                                                     [key], {});\n",
              "          if (!dataTable) return;\n",
              "\n",
              "          const docLinkHtml = 'Like what you see? Visit the ' +\n",
              "            '<a target=\"_blank\" href=https://colab.research.google.com/notebooks/data_table.ipynb>data table notebook</a>'\n",
              "            + ' to learn more about interactive tables.';\n",
              "          element.innerHTML = '';\n",
              "          dataTable['output_type'] = 'display_data';\n",
              "          await google.colab.output.renderOutput(dataTable, element);\n",
              "          const docLink = document.createElement('div');\n",
              "          docLink.innerHTML = docLinkHtml;\n",
              "          element.appendChild(docLink);\n",
              "        }\n",
              "      </script>\n",
              "    </div>\n",
              "  </div>\n",
              "  "
            ]
          },
          "metadata": {},
          "execution_count": 36
        }
      ]
    },
    {
      "cell_type": "code",
      "source": [
        "sn.scatterplot(data=SUV_standard_units, x='mpg (standard units)', y='msrp (standard units)')\n",
        "plt.xlim(-3, 3)\n",
        "plt.ylim(-3, 3)\n",
        "plt.show()"
      ],
      "metadata": {
        "colab": {
          "base_uri": "https://localhost:8080/",
          "height": 283
        },
        "id": "NlZBFj2RseRr",
        "outputId": "1e7bafcc-62e5-491f-b9a7-90cb2534c25d"
      },
      "execution_count": 37,
      "outputs": [
        {
          "output_type": "display_data",
          "data": {
            "text/plain": [
              "<Figure size 432x288 with 1 Axes>"
            ],
            "image/png": "[encoded data removed]"
          },
          "metadata": {
            "needs_background": "light"
          }
        }
      ]
    },
    {
      "cell_type": "code",
      "source": [
        "sn.scatterplot(data=SUV_standard_units, x='acceleration (standard units)', y='msrp (standard units)')\n",
        "plt.xlim(-3, 3)\n",
        "plt.ylim(-3, 3)\n",
        "plt.show()"
      ],
      "metadata": {
        "colab": {
          "base_uri": "https://localhost:8080/",
          "height": 283
        },
        "id": "wQwF-BFDsldK",
        "outputId": "70db879d-5902-4ee3-a471-1b2a9b4b2488"
      },
      "execution_count": 38,
      "outputs": [
        {
          "output_type": "display_data",
          "data": {
            "text/plain": [
              "<Figure size 432x288 with 1 Axes>"
            ],
            "image/png": "[encoded data removed]"
          },
          "metadata": {
            "needs_background": "light"
          }
        }
      ]
    },
    {
      "cell_type": "markdown",
      "source": [
        "The associations that we see in these figures are the same as those we saw before. Also, because the two scatter plots are now drawn on exactly the same scale, we can see that the linear relation in the second diagram is a little more fuzzy than in the first.\n",
        "\n",
        "Next, we will define a measure that uses standard units to quantify the kinds of association that we have seen."
      ],
      "metadata": {
        "id": "OXXiAgPSss0p"
      }
    },
    {
      "cell_type": "markdown",
      "source": [
        "## The correlation coefficient\n",
        "\n",
        "The *correlation coefficient* measures the strength of the linear relationship between two variables. Graphically, it measures how clustered the scatter plot is around a straight line.\n",
        "\n",
        "The term *correlation coefficient* isn't easy to say, so it is usually shortened to *correlation* and denoted by $r$.\n",
        "\n",
        "Here are some mathematical facts about $r$ that we will just observe by simulation.\n",
        "\n",
        "- The correlation coefficient $r$ is a number between $-1$ and 1.\n",
        "- $r$ measures the extent to which the scatter plot clusters around a straight line.\n",
        "- $r = 1$ if the scatter plot is a perfect straight line sloping upwards, and $r = -1$ if the scatter plot is a perfect straight line sloping downwards."
      ],
      "metadata": {
        "id": "thhWyYtYsz3U"
      }
    },
    {
      "cell_type": "code",
      "source": [
        "def r_scatter(r):\n",
        "    plt.figure(figsize=(5,5))\n",
        "    \"Generate a scatter plot with a correlation approximately r\"\n",
        "    x = np.random.normal(0, 1, 1000)\n",
        "    z = np.random.normal(0, 1, 1000)\n",
        "    y = r*x + (np.sqrt(1-r**2))*z\n",
        "    plt.scatter(x, y)\n",
        "    plt.xlim(-4, 4)\n",
        "    plt.ylim(-4, 4)"
      ],
      "metadata": {
        "id": "GoWDVow4s-0z"
      },
      "execution_count": 39,
      "outputs": []
    },
    {
      "cell_type": "code",
      "source": [
        "r_scatter(0.9)"
      ],
      "metadata": {
        "colab": {
          "base_uri": "https://localhost:8080/",
          "height": 324
        },
        "id": "WupwCUsctF_E",
        "outputId": "1c9c9da2-6d7b-434c-963a-7ec75ca9226f"
      },
      "execution_count": 40,
      "outputs": [
        {
          "output_type": "display_data",
          "data": {
            "text/plain": [
              "<Figure size 360x360 with 1 Axes>"
            ],
            "image/png": "[encoded data removed]"
          },
          "metadata": {
            "needs_background": "light"
          }
        }
      ]
    },
    {
      "cell_type": "code",
      "source": [
        "#The correlation function\n",
        "\n",
        "def correlation(t, x, y):\n",
        "    return np.mean(standard_units(t[x])*standard_units(t[y]))"
      ],
      "metadata": {
        "id": "2vZw-iGQtOym"
      },
      "execution_count": 41,
      "outputs": []
    },
    {
      "cell_type": "code",
      "source": [
        "correlation(SUV, 'mpg', 'msrp')"
      ],
      "metadata": {
        "colab": {
          "base_uri": "https://localhost:8080/"
        },
        "id": "uXdyT29AtUt2",
        "outputId": "0e69200c-8463-428b-d9d0-c2d34c4a03cc"
      },
      "execution_count": 42,
      "outputs": [
        {
          "output_type": "execute_result",
          "data": {
            "text/plain": [
              "-0.6667143635709919"
            ]
          },
          "metadata": {},
          "execution_count": 42
        }
      ]
    },
    {
      "cell_type": "code",
      "source": [
        "correlation(SUV, 'acceleration', 'msrp')"
      ],
      "metadata": {
        "colab": {
          "base_uri": "https://localhost:8080/"
        },
        "id": "36zbH_bCtbTB",
        "outputId": "b70cd88b-b885-4abd-c8fa-3dff173d21f6"
      },
      "execution_count": 43,
      "outputs": [
        {
          "output_type": "execute_result",
          "data": {
            "text/plain": [
              "0.48699799279959155"
            ]
          },
          "metadata": {},
          "execution_count": 43
        }
      ]
    },
    {
      "cell_type": "markdown",
      "source": [
        "These values confirm what we had observed: \n",
        "\n",
        "- There is a negative association between price and efficiency, whereas the association between price and acceleration is positive.\n",
        "- The linear relation between price and acceleration is a little weaker (correlation about 0.5) than between price and mileage (correlation about -0.67). "
      ],
      "metadata": {
        "id": "n5acIFzStgRI"
      }
    }
  ]
}